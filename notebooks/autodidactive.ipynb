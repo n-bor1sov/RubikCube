{
 "cells": [
  {
   "metadata": {},
   "cell_type": "markdown",
   "source": "## Define the model architecture",
   "id": "ff7caa842424bae7"
  },
  {
   "cell_type": "code",
   "id": "initial_id",
   "metadata": {
    "collapsed": true,
    "ExecuteTime": {
     "end_time": "2024-12-03T20:33:44.973478Z",
     "start_time": "2024-12-03T20:33:44.968659Z"
    }
   },
   "source": [
    "import torch\n",
    "import torch.nn as nn\n",
    "from src.env import *\n",
    "import torch.nn.functional as F\n",
    "from torch.nn.init import xavier_uniform_\n",
    "\n",
    "class ValuePolicyNetwork(nn.Module):\n",
    "    def __init__(self):\n",
    "        super(ValuePolicyNetwork, self).__init__()\n",
    "\n",
    "        # Define shared layers\n",
    "        self.shared_layers = nn.Sequential(\n",
    "            nn.Linear(480, 4096),\n",
    "            nn.LayerNorm(4096),\n",
    "            nn.ELU(),\n",
    "            nn.Linear(4096, 2048),\n",
    "            nn.LayerNorm(2048),\n",
    "            nn.ELU()\n",
    "        )\n",
    "\n",
    "        # Define value head\n",
    "        self.value_head = nn.Sequential(\n",
    "            nn.Linear(2048, 512),  # 2048 -> 512\n",
    "            nn.LayerNorm(512),\n",
    "            nn.ELU(),\n",
    "            nn.Linear(512, 1)  # 512 -> 1 (scalar value)\n",
    "        )\n",
    "\n",
    "        # Define policy head\n",
    "        self.policy_head = nn.Sequential(\n",
    "            nn.Linear(2048, 512),  # 2048 -> 512\n",
    "            nn.LayerNorm(512),\n",
    "            nn.ELU(),\n",
    "            nn.Linear(512, 12)  # 512 -> 12 (policy logits)\n",
    "        )\n",
    "        \n",
    "        # Apply Glorot initialization\n",
    "        self.apply(self._init_weights)\n",
    "\n",
    "    def _init_weights(self, m):\n",
    "        if isinstance(m, nn.Linear):\n",
    "            xavier_uniform_(m.weight)  # Glorot initialization for weights\n",
    "            if m.bias is not None:\n",
    "                nn.init.zeros_(m.bias)\n",
    "\n",
    "    def forward(self, x):\n",
    "        # Transform input\n",
    "        b = x.shape[0]\n",
    "        x = x.view(b, -1)\n",
    "        shared_out = self.shared_layers(x)\n",
    "        value_out = self.value_head(shared_out)\n",
    "        policy_out = self.policy_head(shared_out)\n",
    "        return value_out, policy_out\n"
   ],
   "outputs": [],
   "execution_count": 277
  },
  {
   "metadata": {},
   "cell_type": "markdown",
   "source": "## Generate training samples",
   "id": "d215a78fcbe8900f"
  },
  {
   "cell_type": "code",
   "source": [
    "from copy import deepcopy\n",
    "import random\n",
    "\n",
    "def generate_samples(k: int, l: int):\n",
    "    samples = []\n",
    "    for _ in range(l):\n",
    "        cube = Cube()\n",
    "        actions = []\n",
    "        # Make random moves up to depth k\n",
    "        for _ in range(k):\n",
    "            appended = False\n",
    "            move_index = 0\n",
    "            while not appended:\n",
    "                move_index = random.randint(0, 11)\n",
    "                if len(actions) == 0:\n",
    "                    appended = True\n",
    "                    continue\n",
    "                # Ensure that adjacent moves are not repeated\n",
    "                if move_index%2 == 0 and actions[-1] == move_index + 1:\n",
    "                    continue\n",
    "                if move_index%2 == 1 and actions[-1] == move_index - 1:\n",
    "                    continue\n",
    "                appended = True\n",
    "            cube.move(move_index)\n",
    "            actions.append(move_index)\n",
    "            state = (deepcopy(cube.get_state()), deepcopy(actions))\n",
    "            samples.append(state)\n",
    "\n",
    "    # Transform samples to dictionary format\n",
    "    samples_dict = []\n",
    "    for state, actions in samples:\n",
    "        sample_dict = {\n",
    "            \"state\": [state[0], state[1]],\n",
    "            \"actions\": actions\n",
    "        }\n",
    "        samples_dict.append(sample_dict)\n",
    "\n",
    "    return samples_dict\n"
   ],
   "metadata": {
    "collapsed": false,
    "ExecuteTime": {
     "end_time": "2024-12-03T20:33:45.174590Z",
     "start_time": "2024-12-03T20:33:45.170255Z"
    }
   },
   "id": "f6069ceace496e25",
   "outputs": [],
   "execution_count": 278
  },
  {
   "metadata": {
    "ExecuteTime": {
     "end_time": "2024-12-03T20:33:45.326529Z",
     "start_time": "2024-12-03T20:33:45.324282Z"
    }
   },
   "cell_type": "code",
   "source": [
    "# Define reward\n",
    "def reward(cube: Cube, action):\n",
    "    new_cube = deepcopy(cube)\n",
    "    new_cube.move(action)\n",
    "    # +1 if solved\n",
    "    if new_cube.is_solved():\n",
    "        return 1\n",
    "    # -1 otherwise\n",
    "    else:\n",
    "        return -1"
   ],
   "id": "4348b12cda0f2584",
   "outputs": [],
   "execution_count": 279
  },
  {
   "metadata": {
    "ExecuteTime": {
     "end_time": "2024-12-03T20:33:45.482716Z",
     "start_time": "2024-12-03T20:33:45.479973Z"
    }
   },
   "cell_type": "code",
   "source": [
    "def custom_loss(y_vi_pred, y_pi_pred, y_vi, y_pi, weight, alpha=1):\n",
    "    # Compute per-sample losses for value and policy\n",
    "    loss_v = nn.MSELoss(reduction='none')(y_vi_pred, y_vi)  # Shape: (batch_size,)\n",
    "    loss_p = nn.CrossEntropyLoss(reduction='none')(y_pi_pred, y_pi)  # Shape: (batch_size,)\n",
    "\n",
    "    # Apply weights to the per-sample losses\n",
    "    weighted_loss_v = (loss_v * weight).mean()\n",
    "    weighted_loss_p = (loss_p * weight).mean()\n",
    "\n",
    "    # Combine losses\n",
    "    return weighted_loss_v + alpha * weighted_loss_p"
   ],
   "id": "21bdce19c12ef609",
   "outputs": [],
   "execution_count": 280
  },
  {
   "metadata": {
    "ExecuteTime": {
     "end_time": "2024-12-03T20:33:45.964042Z",
     "start_time": "2024-12-03T20:33:45.958234Z"
    }
   },
   "cell_type": "code",
   "source": [
    "from tqdm import tqdm\n",
    "\n",
    "def train(samples, model, epochs, optimizer, loss_fn, device):\n",
    "    for epoch in range(epochs):\n",
    "        bar = tqdm(range(0, len(samples), batch_size), desc=\"Training\")\n",
    "        running_loss = 0\n",
    "        for step, i in enumerate(bar):\n",
    "            batch = samples[i:i + batch_size]\n",
    "            \n",
    "            values = torch.zeros(len(batch)).to(device)\n",
    "            policies = torch.zeros((len(batch), 12)).to(device)\n",
    "            data = torch.zeros((len(batch), 20, 24)).to(device)\n",
    "            weights = torch.zeros(len(batch)).to(device)\n",
    "            \n",
    "            # Compute the target value and target policy\n",
    "            for j, sample in enumerate(batch):\n",
    "                children_vi = torch.zeros(12).to(device)\n",
    "                children_pi = []\n",
    "\n",
    "                cube = Cube(sample['state'][0], sample['state'][1])\n",
    "                \n",
    "                # Go through all actions\n",
    "                for action in range(12):\n",
    "                    child_cube = deepcopy(cube)\n",
    "                    r = reward(child_cube, action)\n",
    "\n",
    "                    child_cube.move(action)\n",
    "                    corners, edges = child_cube.get_state()      \n",
    "                    cube_representation = torch.concat([corners, edges], dim=0)\n",
    "                    cube_representation_encoded = F.one_hot(cube_representation, num_classes=24).float().to(device)\n",
    "                    with torch.no_grad():\n",
    "                        v, p = model(cube_representation_encoded.unsqueeze(0))\n",
    "\n",
    "                    children_vi[action] = v + r\n",
    "                    children_pi.append(p)\n",
    "                \n",
    "                # Choose the best action\n",
    "                target_vi = torch.max(children_vi)\n",
    "                target_pi = F.one_hot(torch.argmax(children_vi), num_classes=12).float()\n",
    "                \n",
    "                values[j] = target_vi\n",
    "                policies[j] = target_pi\n",
    "                corners, edges = cube.get_state()\n",
    "                cube_representation = torch.concat([corners, edges], dim=0)\n",
    "                cube_representation_encoded = F.one_hot(cube_representation, num_classes=24).float().to(device)\n",
    "                data[j] = cube_representation_encoded\n",
    "                \n",
    "                # Save the weight for the loss computation. Longer paths have lower weight\n",
    "                weights[j] = 1 / len(sample['actions'])\n",
    "            \n",
    "            # Compute loss and backpropagate\n",
    "            vi_pred, pi_pred = model(data)\n",
    "            loss = loss_fn(vi_pred, pi_pred, values, policies, weights)\n",
    "            optimizer.zero_grad()\n",
    "            loss.backward()\n",
    "            \n",
    "            running_loss += loss.item()\n",
    "            bar.set_description(f'loss: {running_loss / (step + 1):4f}, {loss.item()}')\n",
    "            optimizer.step()\n"
   ],
   "id": "7718ccdd25d7942f",
   "outputs": [],
   "execution_count": 281
  },
  {
   "metadata": {
    "ExecuteTime": {
     "end_time": "2024-12-03T20:33:46.283383Z",
     "start_time": "2024-12-03T20:33:46.200317Z"
    }
   },
   "cell_type": "code",
   "source": [
    "device = torch.device(\"cuda:0\" if torch.cuda.is_available() else 'cpu')\n",
    "\n",
    "model = ValuePolicyNetwork().to(device)\n",
    "\n",
    "print(device)"
   ],
   "id": "ed3a8c4e5e4d326b",
   "outputs": [
    {
     "name": "stdout",
     "output_type": "stream",
     "text": [
      "cuda:0\n"
     ]
    }
   ],
   "execution_count": 282
  },
  {
   "metadata": {
    "ExecuteTime": {
     "end_time": "2024-12-03T20:46:24.912560Z",
     "start_time": "2024-12-03T20:42:51.798900Z"
    }
   },
   "cell_type": "code",
   "source": [
    "from torch.optim import AdamW\n",
    "\n",
    "optimizer = AdamW(model.parameters(), lr=2e-4, weight_decay=2e-4)\n",
    "loss_fn = custom_loss\n",
    "\n",
    "\n",
    "for global_epoch in range(100):\n",
    "    samples = generate_samples(20, 1000)\n",
    "    # Shake the samples\n",
    "    random.shuffle(samples)\n",
    "    train(samples, model, 1, optimizer, loss_fn, device)\n",
    "    torch.save(model.state_dict(), 'model.pth')"
   ],
   "id": "2c8369f1dc02e23d",
   "outputs": [
    {
     "name": "stderr",
     "output_type": "stream",
     "text": [
      "loss: 0.503194, 0.5405396223068237: 100%|██████████| 15000/15000 [03:31<00:00, 70.98it/s]   \n"
     ]
    }
   ],
   "execution_count": 337
  },
  {
   "metadata": {},
   "cell_type": "markdown",
   "source": "## Test greedy algorithm",
   "id": "71abdfb0634f44fa"
  },
  {
   "metadata": {
    "ExecuteTime": {
     "end_time": "2024-12-03T20:49:30.354262Z",
     "start_time": "2024-12-03T20:49:30.347420Z"
    }
   },
   "cell_type": "code",
   "source": [
    "steps = [1, 9, 7]\n",
    "cube = Cube()\n",
    "for step in steps:\n",
    "    cube.move(step)\n",
    "\n",
    "i = 0\n",
    "\n",
    "solution = []\n",
    "while not cube.is_solved():\n",
    "    corners, edges = cube.get_state()\n",
    "    cube_representation = torch.concat([corners, edges], dim=0)\n",
    "    cube_representation_encoded = F.one_hot(cube_representation, num_classes=24).float().to(device)\n",
    "    with torch.no_grad():\n",
    "        v, p = model(cube_representation_encoded.unsqueeze(0))\n",
    "    print(v.item())\n",
    "    # print(p.detach().cpu().numpy())\n",
    "    action = torch.argmax(p).item()\n",
    "    print(action)\n",
    "    solution.append(action)\n",
    "    cube.move(action)\n",
    "    i += 1\n",
    "    \n",
    "    if i >= 10:\n",
    "        break\n",
    "    \n",
    "if cube.is_solved():\n",
    "    print(\"Solved!\")\n",
    "    print(solution)\n",
    "else:\n",
    "    print(\"Not Solved :(\")\n",
    "    # print(solution)"
   ],
   "id": "482fc9325d02178b",
   "outputs": [
    {
     "name": "stdout",
     "output_type": "stream",
     "text": [
      "481.9053649902344\n",
      "0\n",
      "482.7429504394531\n",
      "6\n",
      "484.2241516113281\n",
      "8\n",
      "Solved!\n",
      "[6, 8, 0]\n"
     ]
    }
   ],
   "execution_count": 349
  }
 ],
 "metadata": {
  "kernelspec": {
   "display_name": "Python 3",
   "language": "python",
   "name": "python3"
  },
  "language_info": {
   "codemirror_mode": {
    "name": "ipython",
    "version": 2
   },
   "file_extension": ".py",
   "mimetype": "text/x-python",
   "name": "python",
   "nbconvert_exporter": "python",
   "pygments_lexer": "ipython2",
   "version": "2.7.6"
  }
 },
 "nbformat": 4,
 "nbformat_minor": 5
}
