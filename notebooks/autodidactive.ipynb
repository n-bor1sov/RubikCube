{
 "cells": [
  {
   "cell_type": "code",
   "id": "initial_id",
   "metadata": {
    "collapsed": true,
    "ExecuteTime": {
     "end_time": "2024-12-03T19:52:05.885077Z",
     "start_time": "2024-12-03T19:52:05.881192Z"
    }
   },
   "source": [
    "import torch\n",
    "import torch.nn as nn\n",
    "from src.env import *\n",
    "import torch.nn.functional as F\n",
    "from torch.nn.init import xavier_uniform_\n",
    "\n",
    "class ValuePolicyNetwork(nn.Module):\n",
    "    def __init__(self):\n",
    "        super(ValuePolicyNetwork, self).__init__()\n",
    "\n",
    "        # Define shared layers\n",
    "        self.shared_layers = nn.Sequential(\n",
    "            nn.Linear(480, 4096),\n",
    "            nn.LayerNorm(4096),\n",
    "            nn.ELU(),\n",
    "            nn.Linear(4096, 2048),\n",
    "            nn.LayerNorm(2048),\n",
    "            nn.ELU()\n",
    "        )\n",
    "\n",
    "        # Define value head\n",
    "        self.value_head = nn.Sequential(\n",
    "            nn.Linear(2048, 512),  # 2048 -> 512\n",
    "            nn.LayerNorm(512),\n",
    "            nn.ELU(),\n",
    "            nn.Linear(512, 1)  # 512 -> 1 (scalar value)\n",
    "        )\n",
    "\n",
    "        # Define policy head\n",
    "        self.policy_head = nn.Sequential(\n",
    "            nn.Linear(2048, 512),  # 2048 -> 512\n",
    "            nn.LayerNorm(512),\n",
    "            nn.ELU(),\n",
    "            nn.Linear(512, 12)  # 512 -> 12 (policy logits)\n",
    "        )\n",
    "        \n",
    "        # Apply Glorot initialization\n",
    "        self.apply(self._init_weights)\n",
    "\n",
    "    def _init_weights(self, m):\n",
    "        if isinstance(m, nn.Linear):\n",
    "            xavier_uniform_(m.weight)  # Glorot initialization for weights\n",
    "            if m.bias is not None:\n",
    "                nn.init.zeros_(m.bias)\n",
    "\n",
    "    def forward(self, x):\n",
    "        # Transform input\n",
    "        b = x.shape[0]\n",
    "        x = x.view(b, -1)\n",
    "        shared_out = self.shared_layers(x)\n",
    "        value_out = self.value_head(shared_out)\n",
    "        policy_out = self.policy_head(shared_out)\n",
    "        return value_out, policy_out\n"
   ],
   "outputs": [],
   "execution_count": 210
  },
  {
   "cell_type": "code",
   "source": [
    "from copy import deepcopy\n",
    "import random\n",
    "\n",
    "# Assuming Cube class and move definitions are already provided\n",
    "\n",
    "def generate_samples(k: int, l: int):\n",
    "    samples = []\n",
    "    for _ in range(l):\n",
    "        cube = Cube()\n",
    "        actions = []\n",
    "        # Make random moves up to depth k\n",
    "        for _ in range(k):\n",
    "            appended = False\n",
    "            move_index = 0\n",
    "            while not appended:\n",
    "                move_index = random.randint(0, 11)\n",
    "                if len(actions) == 0:\n",
    "                    appended = True\n",
    "                    continue\n",
    "                if move_index%2 == 0 and actions[-1] == move_index + 1:\n",
    "                    continue\n",
    "                if move_index%2 == 1 and actions[-1] == move_index - 1:\n",
    "                    continue\n",
    "                appended = True\n",
    "            cube.move(move_index)\n",
    "            actions.append(move_index)\n",
    "            state = (deepcopy(cube.get_state()), deepcopy(actions))\n",
    "            samples.append(state)\n",
    "\n",
    "    # Transform samples to dictionary format\n",
    "    samples_dict = []\n",
    "    for state, actions in samples:\n",
    "        sample_dict = {\n",
    "            \"state\": [state[0], state[1]],\n",
    "            \"actions\": actions\n",
    "        }\n",
    "        samples_dict.append(sample_dict)\n",
    "\n",
    "    return samples_dict\n"
   ],
   "metadata": {
    "collapsed": false,
    "ExecuteTime": {
     "end_time": "2024-12-03T19:52:09.672506Z",
     "start_time": "2024-12-03T19:52:09.669162Z"
    }
   },
   "id": "f6069ceace496e25",
   "outputs": [],
   "execution_count": 211
  },
  {
   "metadata": {
    "ExecuteTime": {
     "end_time": "2024-12-03T19:52:10.327811Z",
     "start_time": "2024-12-03T19:52:10.325519Z"
    }
   },
   "cell_type": "code",
   "source": [
    "def reward(cube: Cube, action):\n",
    "    new_cube = deepcopy(cube)\n",
    "    new_cube.move(action)\n",
    "    if new_cube.is_solved():\n",
    "        return 1\n",
    "    else:\n",
    "        return -1"
   ],
   "id": "4348b12cda0f2584",
   "outputs": [],
   "execution_count": 212
  },
  {
   "metadata": {
    "ExecuteTime": {
     "end_time": "2024-12-03T19:52:10.730673Z",
     "start_time": "2024-12-03T19:52:10.727686Z"
    }
   },
   "cell_type": "code",
   "source": [
    "def custom_loss(y_vi_pred, y_pi_pred, y_vi, y_pi, weight, alpha=1):\n",
    "    # Compute per-sample losses for value and policy\n",
    "    loss_v = nn.MSELoss(reduction='none')(y_vi_pred, y_vi)  # Shape: (batch_size,)\n",
    "    loss_p = nn.CrossEntropyLoss(reduction='none')(y_pi_pred, y_pi)  # Shape: (batch_size,)\n",
    "\n",
    "    # Apply weights to the per-sample losses\n",
    "    weighted_loss_v = (loss_v * weight).mean()\n",
    "    weighted_loss_p = (loss_p * weight).mean()\n",
    "\n",
    "    # Combine losses\n",
    "    return weighted_loss_v + alpha * weighted_loss_p"
   ],
   "id": "21bdce19c12ef609",
   "outputs": [],
   "execution_count": 213
  },
  {
   "metadata": {
    "ExecuteTime": {
     "end_time": "2024-12-03T19:52:11.324557Z",
     "start_time": "2024-12-03T19:52:11.318258Z"
    }
   },
   "cell_type": "code",
   "source": [
    "from tqdm import tqdm\n",
    "\n",
    "def train(samples, model, epochs, optimizer, loss_fn, device):\n",
    "    for epoch in range(epochs):\n",
    "        bar = tqdm(range(0, len(samples), batch_size), desc=\"Training\")\n",
    "        running_loss = 0\n",
    "        for step, i in enumerate(bar):\n",
    "            batch = samples[i:i + batch_size]\n",
    "            \n",
    "            values = torch.zeros(len(batch)).to(device)\n",
    "            policies = torch.zeros((len(batch), 12)).to(device)\n",
    "            data = torch.zeros((len(batch), 20, 24)).to(device)\n",
    "            weights = torch.zeros(len(batch)).to(device)\n",
    "            \n",
    "            for j, sample in enumerate(batch):\n",
    "                children_vi = torch.zeros(12).to(device)\n",
    "                children_pi = []\n",
    "\n",
    "                cube = Cube(sample['state'][0], sample['state'][1])\n",
    "                \n",
    "                for action in range(12):\n",
    "                    child_cube = deepcopy(cube)\n",
    "                    r = reward(child_cube, action)\n",
    "\n",
    "                    child_cube.move(action)\n",
    "                    corners, edges = child_cube.get_state()      \n",
    "                    cube_representation = torch.concat([corners, edges], dim=0)\n",
    "                    cube_representation_encoded = F.one_hot(cube_representation, num_classes=24).float().to(device)\n",
    "                    with torch.no_grad():\n",
    "                        v, p = model(cube_representation_encoded.unsqueeze(0))\n",
    "\n",
    "                    children_vi[action] = v + r\n",
    "                    children_pi.append(p)\n",
    "                \n",
    "                target_vi = torch.max(children_vi)\n",
    "                target_pi = F.one_hot(torch.argmax(children_vi), num_classes=12).float()\n",
    "                \n",
    "                values[j] = target_vi\n",
    "                policies[j] = target_pi\n",
    "                corners, edges = cube.get_state()\n",
    "                cube_representation = torch.concat([corners, edges], dim=0)\n",
    "                cube_representation_encoded = F.one_hot(cube_representation, num_classes=24).float().to(device)\n",
    "                data[j] = cube_representation_encoded\n",
    "                \n",
    "                weights[j] = 1 / len(sample['actions'])\n",
    "            \n",
    "            vi_pred, pi_pred = model(data)\n",
    "            loss = loss_fn(vi_pred, pi_pred, values, policies, weights)\n",
    "            optimizer.zero_grad()\n",
    "            loss.backward()\n",
    "            \n",
    "            running_loss += loss.item()\n",
    "            bar.set_description(f'loss: {running_loss / (step + 1):4f}, {loss.item()}')\n",
    "            optimizer.step()\n"
   ],
   "id": "7718ccdd25d7942f",
   "outputs": [],
   "execution_count": 214
  },
  {
   "metadata": {
    "ExecuteTime": {
     "end_time": "2024-12-03T19:52:12.163608Z",
     "start_time": "2024-12-03T19:52:12.083835Z"
    }
   },
   "cell_type": "code",
   "source": [
    "device = torch.device(\"cuda:0\" if torch.cuda.is_available() else 'cpu')\n",
    "# device = torch.device(\"mps\" if torch.backends.mps.is_available() else device)\n",
    "\n",
    "model = ValuePolicyNetwork().to(device)\n",
    "\n",
    "print(device)"
   ],
   "id": "ed3a8c4e5e4d326b",
   "outputs": [
    {
     "name": "stdout",
     "output_type": "stream",
     "text": [
      "cuda:0\n"
     ]
    }
   ],
   "execution_count": 215
  },
  {
   "metadata": {
    "ExecuteTime": {
     "end_time": "2024-12-03T19:54:43.279175Z",
     "start_time": "2024-12-03T19:53:47.435201Z"
    }
   },
   "cell_type": "code",
   "source": [
    "from torch.optim import RMSprop, AdamW\n",
    "\n",
    "# optimizer = AdamW(model.parameters(), lr=2e-4, weight_decay=2e-5)\n",
    "optimizer = RMSprop(model.parameters(), lr=2e-4)\n",
    "loss_fn = custom_loss\n",
    "\n",
    "\n",
    "samples = generate_samples(5, 10000)\n",
    "# Shake the samples\n",
    "random.shuffle(samples)\n",
    "\n",
    "batch_size = 512\n",
    "\n",
    "train(samples, model, 1, optimizer, loss_fn, device)"
   ],
   "id": "2c8369f1dc02e23d",
   "outputs": [
    {
     "name": "stderr",
     "output_type": "stream",
     "text": [
      "Training:   0%|          | 0/98 [00:00<?, ?it/s]/home/john/.pyenv/versions/.venv_ml/lib/python3.11/site-packages/torch/nn/modules/loss.py:608: UserWarning: Using a target size (torch.Size([512])) that is different to the input size (torch.Size([512, 1])). This will likely lead to incorrect results due to broadcasting. Please ensure they have the same size.\n",
      "  return F.mse_loss(input, target, reduction=self.reduction)\n",
      "loss: 1.294587, 1.0037928819656372:  15%|█▌        | 15/98 [00:50<04:38,  3.35s/it]\n"
     ]
    },
    {
     "ename": "KeyboardInterrupt",
     "evalue": "",
     "output_type": "error",
     "traceback": [
      "\u001B[0;31m---------------------------------------------------------------------------\u001B[0m",
      "\u001B[0;31mKeyboardInterrupt\u001B[0m                         Traceback (most recent call last)",
      "Cell \u001B[0;32mIn[234], line 14\u001B[0m\n\u001B[1;32m     10\u001B[0m random\u001B[38;5;241m.\u001B[39mshuffle(samples)\n\u001B[1;32m     12\u001B[0m batch_size \u001B[38;5;241m=\u001B[39m \u001B[38;5;241m512\u001B[39m\n\u001B[0;32m---> 14\u001B[0m \u001B[43mtrain\u001B[49m\u001B[43m(\u001B[49m\u001B[43msamples\u001B[49m\u001B[43m,\u001B[49m\u001B[43m \u001B[49m\u001B[43mmodel\u001B[49m\u001B[43m,\u001B[49m\u001B[43m \u001B[49m\u001B[38;5;241;43m1\u001B[39;49m\u001B[43m,\u001B[49m\u001B[43m \u001B[49m\u001B[43moptimizer\u001B[49m\u001B[43m,\u001B[49m\u001B[43m \u001B[49m\u001B[43mloss_fn\u001B[49m\u001B[43m,\u001B[49m\u001B[43m \u001B[49m\u001B[43mdevice\u001B[49m\u001B[43m)\u001B[49m\n",
      "Cell \u001B[0;32mIn[214], line 25\u001B[0m, in \u001B[0;36mtrain\u001B[0;34m(samples, model, epochs, optimizer, loss_fn, device)\u001B[0m\n\u001B[1;32m     22\u001B[0m child_cube \u001B[38;5;241m=\u001B[39m deepcopy(cube)\n\u001B[1;32m     23\u001B[0m r \u001B[38;5;241m=\u001B[39m reward(child_cube, action)\n\u001B[0;32m---> 25\u001B[0m \u001B[43mchild_cube\u001B[49m\u001B[38;5;241;43m.\u001B[39;49m\u001B[43mmove\u001B[49m\u001B[43m(\u001B[49m\u001B[43maction\u001B[49m\u001B[43m)\u001B[49m\n\u001B[1;32m     26\u001B[0m corners, edges \u001B[38;5;241m=\u001B[39m child_cube\u001B[38;5;241m.\u001B[39mget_state()      \n\u001B[1;32m     27\u001B[0m cube_representation \u001B[38;5;241m=\u001B[39m torch\u001B[38;5;241m.\u001B[39mconcat([corners, edges], dim\u001B[38;5;241m=\u001B[39m\u001B[38;5;241m0\u001B[39m)\n",
      "File \u001B[0;32m~/repos/RubikCube/src/env.py:116\u001B[0m, in \u001B[0;36mCube.move\u001B[0;34m(self, move_index)\u001B[0m\n\u001B[1;32m    114\u001B[0m \u001B[38;5;66;03m# Apply the transformation for edges\u001B[39;00m\n\u001B[1;32m    115\u001B[0m \u001B[38;5;28;01mfor\u001B[39;00m i \u001B[38;5;129;01min\u001B[39;00m \u001B[38;5;28mrange\u001B[39m(\u001B[38;5;241m12\u001B[39m):\n\u001B[0;32m--> 116\u001B[0m     \u001B[38;5;28mself\u001B[39m\u001B[38;5;241m.\u001B[39medges[i] \u001B[38;5;241m=\u001B[39m edge_moves[move_index][edges_copy[i]]\n",
      "\u001B[0;31mKeyboardInterrupt\u001B[0m: "
     ]
    }
   ],
   "execution_count": 234
  },
  {
   "metadata": {
    "ExecuteTime": {
     "end_time": "2024-12-03T19:55:04.738394Z",
     "start_time": "2024-12-03T19:55:04.732484Z"
    }
   },
   "cell_type": "code",
   "source": [
    "steps = [2, 1, 2]\n",
    "cube = Cube()\n",
    "for step in steps:\n",
    "    cube.move(step)\n",
    "\n",
    "i = 0\n",
    "\n",
    "solution = []\n",
    "while not cube.is_solved():\n",
    "    corners, edges = cube.get_state()\n",
    "    cube_representation = torch.concat([corners, edges], dim=0)\n",
    "    cube_representation_encoded = F.one_hot(cube_representation, num_classes=24).float().to(device)\n",
    "    with torch.no_grad():\n",
    "        v, p = model(cube_representation_encoded.unsqueeze(0))\n",
    "    # print(v.item())\n",
    "    # print(p.detach().cpu().numpy())\n",
    "    # print(action)\n",
    "    action = torch.argmax(p).item()\n",
    "    solution.append(action)\n",
    "    cube.move(action)\n",
    "    i += 1\n",
    "    \n",
    "    if i >= 20:\n",
    "        break\n",
    "    \n",
    "if cube.is_solved():\n",
    "    print(\"Solved!\")\n",
    "    print(solution)\n",
    "else:\n",
    "    print(\"Not Solved!\")\n",
    "    # print(solution)"
   ],
   "id": "482fc9325d02178b",
   "outputs": [
    {
     "name": "stdout",
     "output_type": "stream",
     "text": [
      "Solved!\n",
      "[3, 0, 3]\n"
     ]
    }
   ],
   "execution_count": 242
  }
 ],
 "metadata": {
  "kernelspec": {
   "display_name": "Python 3",
   "language": "python",
   "name": "python3"
  },
  "language_info": {
   "codemirror_mode": {
    "name": "ipython",
    "version": 2
   },
   "file_extension": ".py",
   "mimetype": "text/x-python",
   "name": "python",
   "nbconvert_exporter": "python",
   "pygments_lexer": "ipython2",
   "version": "2.7.6"
  }
 },
 "nbformat": 4,
 "nbformat_minor": 5
}
