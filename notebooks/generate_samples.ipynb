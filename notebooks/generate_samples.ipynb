{
 "cells": [
  {
   "cell_type": "code",
   "execution_count": 5,
   "metadata": {},
   "outputs": [],
   "source": [
    "import sys\n",
    "sys.path.append(\"../\")\n",
    "from src.env import *\n",
    "from src.generate_samples import *\n",
    "cube = Cube()\n"
   ]
  },
  {
   "cell_type": "code",
   "execution_count": null,
   "metadata": {},
   "outputs": [],
   "source": [
    "cube = Cube()\n",
    "generate_samples(2, 3)"
   ]
  },
  {
   "cell_type": "code",
   "execution_count": 13,
   "metadata": {},
   "outputs": [
    {
     "data": {
      "text/plain": [
       "(tensor([ 1,  3,  0,  2, 12, 13, 14, 15]),\n",
       " tensor([ 2,  0,  3,  1,  9, 10, 21, 22, 12, 13, 14, 15]))"
      ]
     },
     "execution_count": 13,
     "metadata": {},
     "output_type": "execute_result"
    }
   ],
   "source": [
    "with open(\"cube_samples.pkl\", 'rb') as f:\n",
    "    obj = pickle.load(f)\n",
    "\n",
    "corners, edges = torch.tensor(obj[0]['state'][0]), torch.tensor(obj[0]['state'][1])\n",
    "new_cube = Cube(corners, edges)\n",
    "new_cube.get_state()"
   ]
  },
  {
   "cell_type": "code",
   "execution_count": null,
   "metadata": {},
   "outputs": [],
   "source": [
    "# def evaluate_cube(cube_state: ):\n",
    "    \n",
    "#         state, distance = xi\n",
    "#         children = []\n",
    "#         for move in cube.get_possible_moves():\n",
    "#             new_cube = Cube(state)\n",
    "#             new_cube.apply_move(move)\n",
    "#             children.append((new_cube.get_state(), move))"
   ]
  }
 ],
 "metadata": {
  "kernelspec": {
   "display_name": "cube",
   "language": "python",
   "name": "python3"
  },
  "language_info": {
   "codemirror_mode": {
    "name": "ipython",
    "version": 3
   },
   "file_extension": ".py",
   "mimetype": "text/x-python",
   "name": "python",
   "nbconvert_exporter": "python",
   "pygments_lexer": "ipython3",
   "version": "3.11.9"
  }
 },
 "nbformat": 4,
 "nbformat_minor": 2
}
