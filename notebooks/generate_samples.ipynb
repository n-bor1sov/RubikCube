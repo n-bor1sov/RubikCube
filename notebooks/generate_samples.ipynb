{
 "cells": [
  {
   "cell_type": "code",
   "execution_count": null,
   "metadata": {},
   "outputs": [
    {
     "ename": "ModuleNotFoundError",
     "evalue": "No module named 'torch'",
     "output_type": "error",
     "traceback": [
      "\u001b[0;31m---------------------------------------------------------------------------\u001b[0m",
      "\u001b[0;31mModuleNotFoundError\u001b[0m                       Traceback (most recent call last)",
      "Cell \u001b[0;32mIn[1], line 1\u001b[0m\n\u001b[0;32m----> 1\u001b[0m \u001b[38;5;28;01mimport\u001b[39;00m \u001b[38;5;21;01mtorch\u001b[39;00m\n\u001b[1;32m      2\u001b[0m \u001b[38;5;28;01mfrom\u001b[39;00m \u001b[38;5;21;01mcopy\u001b[39;00m \u001b[38;5;28;01mimport\u001b[39;00m deepcopy\n\u001b[1;32m      3\u001b[0m \u001b[38;5;28;01mimport\u001b[39;00m \u001b[38;5;21;01mrandom\u001b[39;00m\n",
      "\u001b[0;31mModuleNotFoundError\u001b[0m: No module named 'torch'"
     ]
    }
   ],
   "source": [
    "import torch\n",
    "from copy import deepcopy\n",
    "import random\n",
    "import json\n",
    "from src.env import Cube\n",
    "\n",
    "# Assuming Cube class and move definitions are already provided\n",
    "\n",
    "def generate_samples(k: int, l: int):\n",
    "    samples = []\n",
    "    for _ in range(l):\n",
    "        cube = Cube()\n",
    "        actions = []\n",
    "        # Make random moves up to depth k\n",
    "        for _ in range(k):\n",
    "            move_index = random.randint(0, 11)\n",
    "            cube.move(move_index)\n",
    "            actions.append(move_index)\n",
    "            state = (deepcopy(cube.get_state()), deepcopy(actions))\n",
    "            samples.append(state)\n",
    "\n",
    "    # Transform samples to dictionary format\n",
    "    samples_dict = []\n",
    "    for state, actions in samples:\n",
    "        sample_dict = {\n",
    "            \"state\": [state[0][0].tolist(), state[0][1].tolist(), state[0][2]],\n",
    "            \"actions\": actions\n",
    "        }\n",
    "        samples_dict.append(sample_dict)\n",
    "\n",
    "    # Save the dictionary as a pickle file\n",
    "    filename = \"cube_samples.pkl\"\n",
    "    try:\n",
    "        with open(filename, 'wb') as f:\n",
    "            pickle.dump(samples_dict, f)\n",
    "    except IOError as e:\n",
    "        print(f\"An error occurred while writing to the file: {e}\")\n",
    "    except Exception as e:\n",
    "        print(f\"An error occurred: {e}\")\n",
    "\n"
   ]
  },
  {
   "cell_type": "code",
   "execution_count": null,
   "metadata": {},
   "outputs": [],
   "source": [
    "# def evaluate_cube(cube_state: ):\n",
    "    \n",
    "#         state, distance = xi\n",
    "#         children = []\n",
    "#         for move in cube.get_possible_moves():\n",
    "#             new_cube = Cube(state)\n",
    "#             new_cube.apply_move(move)\n",
    "#             children.append((new_cube.get_state(), move))"
   ]
  }
 ],
 "metadata": {
  "kernelspec": {
   "display_name": "cube",
   "language": "python",
   "name": "python3"
  },
  "language_info": {
   "codemirror_mode": {
    "name": "ipython",
    "version": 3
   },
   "file_extension": ".py",
   "mimetype": "text/x-python",
   "name": "python",
   "nbconvert_exporter": "python",
   "pygments_lexer": "ipython3",
   "version": "3.11.9"
  }
 },
 "nbformat": 4,
 "nbformat_minor": 2
}
