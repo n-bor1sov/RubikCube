{
 "cells": [
  {
   "cell_type": "code",
   "id": "initial_id",
   "metadata": {
    "collapsed": true,
    "ExecuteTime": {
     "end_time": "2024-11-30T13:18:15.926396Z",
     "start_time": "2024-11-30T13:18:15.919786Z"
    }
   },
   "source": [
    "'''\n",
    "Corner possible positions:\n",
    "\n",
    "          ┌──┬──┬──┐\n",
    "          │ 0│ *│ 1│\n",
    "          ├──┼──┼──┤\n",
    "          │ *│ *│ *│\n",
    "          ├──┼──┼──┤\n",
    "          │ 2│ *│ 3│\n",
    " ┌──┬──┬──┼──┼──┼──┼──┬──┬──┬──┬──┬──┐\n",
    " │16│ *│17│ 8│ *│ 9│ 4│ *│ 5│20│ *│21│\n",
    " ├──┼──┼──┼──┼──┼──┼──┼──┼──┼──┼──┼──┤\n",
    " │ *│ *│ *│ *│ *│ *│ *│ *│ *│ *│ *│ *│\n",
    " ├──┼──┼──┼──┼──┼──┼──┼──┼──┼──┼──┼──┤\n",
    " │18│ *│19│10│ *│11│ 6│ *│ 7│22│ *│23│\n",
    " └──┴──┴──┼──┼──┼──┼──┴──┴──┴──┴──┴──┘\n",
    "          │12│ *│13│\n",
    "          ├──┼──┼──┤\n",
    "          │ *│ *│ *│\n",
    "          ├──┼──┼──┤\n",
    "          │14│ *│15│\n",
    "          └──┴──┴──┘\n",
    "          \n",
    "Corners notations in the solved cube:\n",
    "          ┌──┬──┬──┐\n",
    "          │ 0│ *│ 1│\n",
    "          ├──┼──┼──┤\n",
    "          │ *│ *│ *│\n",
    "          ├──┼──┼──┤\n",
    "          │ 2│ *│ 3│\n",
    " ┌──┬──┬──┼──┼──┼──┼──┬──┬──┬──┬──┬──┐\n",
    " │ *│ *│ *│ *│ *│ *│ *│ *│ *│ *│ *│ *│\n",
    " ├──┼──┼──┼──┼──┼──┼──┼──┼──┼──┼──┼──┤\n",
    " │ *│ *│ *│ *│ *│ *│ *│ *│ *│ *│ *│ *│\n",
    " ├──┼──┼──┼──┼──┼──┼──┼──┼──┼──┼──┼──┤\n",
    " │ *│ *│ *│ *│ *│ *│ *│ *│ *│ *│ *│ *│\n",
    " └──┴──┴──┼──┼──┼──┼──┴──┴──┴──┴──┴──┘\n",
    "          │ 4│ *│ 5│\n",
    "          ├──┼──┼──┤\n",
    "          │ *│ *│ *│\n",
    "          ├──┼──┼──┤\n",
    "          │ 6│ *│ 7│\n",
    "          └──┴──┴──┘\n",
    "\n",
    "Edges possible positions:\n",
    "\n",
    "          ┌──┬──┬──┐\n",
    "          │ *│ 0│ *│\n",
    "          ├──┼──┼──┤\n",
    "          │ 1│ *│ 2│\n",
    "          ├──┼──┼──┤\n",
    "          │ *│ 3│ *│\n",
    " ┌──┬──┬──┼──┼──┼──┼──┬──┬──┬──┬──┬──┐\n",
    " │ *│16│ *│ *│ 8│ *│ *│ 4│ *│ *│20│ *│\n",
    " ├──┼──┼──┼──┼──┼──┼──┼──┼──┼──┼──┼──┤\n",
    " │17│ *│18│ 9│ *│10│ 5│ *│ 6│21│ *│22│\n",
    " ├──┼──┼──┼──┼──┼──┼──┼──┼──┼──┼──┼──┤\n",
    " │ *│19│ *│ *│11│ *│ *│ 7│ *│ *│23│ *│\n",
    " └──┴──┴──┼──┼──┼──┼──┴──┴──┴──┴──┴──┘\n",
    "          │ *│12│ *│\n",
    "          ├──┼──┼──┤\n",
    "          │13│ *│14│\n",
    "          ├──┼──┼──┤\n",
    "          │ *│15│ *│\n",
    "          └──┴──┴──┘\n",
    "          \n",
    "Edges notations in the solved cube:\n",
    "          ┌──┬──┬──┐\n",
    "          │ *│ 0│ *│\n",
    "          ├──┼──┼──┤\n",
    "          │ 1│ *│ 2│\n",
    "          ├──┼──┼──┤\n",
    "          │ *│ 3│ *│\n",
    " ┌──┬──┬──┼──┼──┼──┼──┬──┬──┬──┬──┬──┐\n",
    " │ *│ *│ *│ *│ *│ *│ *│ *│ *│ *│ *│ *│\n",
    " ├──┼──┼──┼──┼──┼──┼──┼──┼──┼──┼──┼──┤\n",
    " │ *│ *│ *│ 4│ *│ 5│ *│ *│ *│ 6│ *│ 7│\n",
    " ├──┼──┼──┼──┼──┼──┼──┼──┼──┼──┼──┼──┤\n",
    " │ *│ *│ *│ *│ *│ *│ *│ *│ *│ *│ *│ *│\n",
    " └──┴──┴──┼──┼──┼──┼──┴──┴──┴──┴──┴──┘\n",
    "          │ *│ 8│ *│\n",
    "          ├──┼──┼──┤\n",
    "          │ 9│ *│10│\n",
    "          ├──┼──┼──┤\n",
    "          │ *│11│ *│\n",
    "          └──┴──┴──┘\n",
    "\n",
    "The cube is represented by two lists: corners and edges. For example, corner[0] will be the position of the corner with index 0. Same for the edges\n",
    "\n",
    "'''\n",
    "print()"
   ],
   "outputs": [
    {
     "name": "stdout",
     "output_type": "stream",
     "text": [
      "\n"
     ]
    }
   ],
   "execution_count": 1
  },
  {
   "metadata": {},
   "cell_type": "markdown",
   "source": "### Import the environment",
   "id": "ebe9cd3491e83eb4"
  },
  {
   "metadata": {
    "ExecuteTime": {
     "end_time": "2024-11-30T17:01:52.128095Z",
     "start_time": "2024-11-30T17:01:52.122590Z"
    }
   },
   "cell_type": "code",
   "source": "from src.env import *",
   "id": "7b8742ef34539d26",
   "outputs": [],
   "execution_count": 262
  },
  {
   "metadata": {},
   "cell_type": "markdown",
   "source": "### Let's see how the cube looks like",
   "id": "50fa8bf10fb59943"
  },
  {
   "metadata": {
    "ExecuteTime": {
     "end_time": "2024-11-30T17:06:24.285829Z",
     "start_time": "2024-11-30T17:06:24.282531Z"
    }
   },
   "cell_type": "code",
   "source": [
    "cube = Cube()\n",
    "corners, edges = cube.get_state()\n",
    "print(F\"Corners: {corners}\\nEdges: {edges}\")\n",
    "\n",
    "print(cube)"
   ],
   "id": "7b7e37c4528ccc37",
   "outputs": [
    {
     "name": "stdout",
     "output_type": "stream",
     "text": [
      "Corners: tensor([ 0,  1,  2,  3, 12, 13, 14, 15])\n",
      "Edges: tensor([ 0,  1,  2,  3,  9, 10, 21, 22, 12, 13, 14, 15])\n",
      "          ┌──┬──┬──┐\n",
      "          │ 0│ 0│ 1│\n",
      "          ├──┼──┼──┤\n",
      "          │ 1│ *│ 2│\n",
      "          ├──┼──┼──┤\n",
      "          │ 2│ 3│ 3│\n",
      " ┌──┬──┬──┼──┼──┼──┼──┬──┬──┬──┬──┬──┐\n",
      " │ *│ *│ *│ *│ *│ *│ *│ *│ *│ *│ *│ *│\n",
      " ├──┼──┼──┼──┼──┼──┼──┼──┼──┼──┼──┼──┤\n",
      " │ *│ *│ *│ 4│ *│ 5│ *│ *│ *│ 6│ *│ 7│\n",
      " ├──┼──┼──┼──┼──┼──┼──┼──┼──┼──┼──┼──┤\n",
      " │ *│ *│ *│ *│ *│ *│ *│ *│ *│ *│ *│ *│\n",
      " └──┴──┴──┼──┼──┼──┼──┴──┴──┴──┴──┴──┘\n",
      "          │ 4│ 8│ 5│\n",
      "          ├──┼──┼──┤\n",
      "          │ 9│ *│10│\n",
      "          ├──┼──┼──┤\n",
      "          │ 6│11│ 7│\n",
      "          └──┴──┴──┘\n",
      "\n"
     ]
    }
   ],
   "execution_count": 269
  },
  {
   "metadata": {},
   "cell_type": "markdown",
   "source": [
    "## Some tests\n",
    "\n",
    "#### If the edge is rotated 4 times, the cube state will not be changed"
   ],
   "id": "b0c7aad60ddea4b6"
  },
  {
   "metadata": {
    "ExecuteTime": {
     "end_time": "2024-11-30T17:01:54.836267Z",
     "start_time": "2024-11-30T17:01:54.830496Z"
    }
   },
   "cell_type": "code",
   "source": [
    "cube = Cube()\n",
    "for move in move2idx:\n",
    "    for i in range(4):\n",
    "        cube.move(move2idx[move])\n",
    "        \n",
    "    assert cube.is_solved(), f\"Failed on move {move}\" "
   ],
   "id": "a54dfe4ef28ad472",
   "outputs": [],
   "execution_count": 264
  },
  {
   "metadata": {},
   "cell_type": "markdown",
   "source": "#### Let's see the \"trigger' trick. If R U Rc Uc is done 6 times, the cube state will not be changed",
   "id": "c0c41b22c39ee8d6"
  },
  {
   "metadata": {
    "ExecuteTime": {
     "end_time": "2024-11-30T17:07:05.103196Z",
     "start_time": "2024-11-30T17:07:05.097984Z"
    }
   },
   "cell_type": "code",
   "source": [
    "cube = Cube()\n",
    "for i in range(6):\n",
    "    for action in [\"R\", \"U\", \"Rc\", \"Uc\"]:\n",
    "        cube.move(move2idx[action])\n",
    "print(cube.is_solved())\n"
   ],
   "id": "d58f2b2e8e0c3991",
   "outputs": [
    {
     "name": "stdout",
     "output_type": "stream",
     "text": [
      "tensor(True)\n"
     ]
    }
   ],
   "execution_count": 270
  }
 ],
 "metadata": {
  "kernelspec": {
   "display_name": "Python 3",
   "language": "python",
   "name": "python3"
  },
  "language_info": {
   "codemirror_mode": {
    "name": "ipython",
    "version": 2
   },
   "file_extension": ".py",
   "mimetype": "text/x-python",
   "name": "python",
   "nbconvert_exporter": "python",
   "pygments_lexer": "ipython2",
   "version": "2.7.6"
  }
 },
 "nbformat": 4,
 "nbformat_minor": 5
}
