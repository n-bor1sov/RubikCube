{
 "cells": [
  {
   "cell_type": "code",
   "execution_count": 1,
   "id": "initial_id",
   "metadata": {
    "ExecuteTime": {
     "end_time": "2024-11-30T13:18:15.926396Z",
     "start_time": "2024-11-30T13:18:15.919786Z"
    },
    "collapsed": true
   },
   "outputs": [
    {
     "name": "stdout",
     "output_type": "stream",
     "text": [
      "\n"
     ]
    }
   ],
   "source": [
    "'''\n",
    "Corner possible positions:\n",
    "\n",
    "          ┌──┬──┬──┐\n",
    "          │ 0│ *│ 1│\n",
    "          ├──┼──┼──┤\n",
    "          │ *│ *│ *│\n",
    "          ├──┼──┼──┤\n",
    "          │ 2│ *│ 3│\n",
    " ┌──┬──┬──┼──┼──┼──┼──┬──┬──┬──┬──┬──┐\n",
    " │16│ *│17│ 8│ *│ 9│ 4│ *│ 5│20│ *│21│\n",
    " ├──┼──┼──┼──┼──┼──┼──┼──┼──┼──┼──┼──┤\n",
    " │ *│ *│ *│ *│ *│ *│ *│ *│ *│ *│ *│ *│\n",
    " ├──┼──┼──┼──┼──┼──┼──┼──┼──┼──┼──┼──┤\n",
    " │18│ *│19│10│ *│11│ 6│ *│ 7│22│ *│23│\n",
    " └──┴──┴──┼──┼──┼──┼──┴──┴──┴──┴──┴──┘\n",
    "          │12│ *│13│\n",
    "          ├──┼──┼──┤\n",
    "          │ *│ *│ *│\n",
    "          ├──┼──┼──┤\n",
    "          │14│ *│15│\n",
    "          └──┴──┴──┘\n",
    "          \n",
    "Corners notations in the solved cube:\n",
    "          ┌──┬──┬──┐\n",
    "          │ 0│ *│ 1│\n",
    "          ├──┼──┼──┤\n",
    "          │ *│ *│ *│\n",
    "          ├──┼──┼──┤\n",
    "          │ 2│ *│ 3│\n",
    " ┌──┬──┬──┼──┼──┼──┼──┬──┬──┬──┬──┬──┐\n",
    " │ *│ *│ *│ *│ *│ *│ *│ *│ *│ *│ *│ *│\n",
    " ├──┼──┼──┼──┼──┼──┼──┼──┼──┼──┼──┼──┤\n",
    " │ *│ *│ *│ *│ *│ *│ *│ *│ *│ *│ *│ *│\n",
    " ├──┼──┼──┼──┼──┼──┼──┼──┼──┼──┼──┼──┤\n",
    " │ *│ *│ *│ *│ *│ *│ *│ *│ *│ *│ *│ *│\n",
    " └──┴──┴──┼──┼──┼──┼──┴──┴──┴──┴──┴──┘\n",
    "          │ 4│ *│ 5│\n",
    "          ├──┼──┼──┤\n",
    "          │ *│ *│ *│\n",
    "          ├──┼──┼──┤\n",
    "          │ 6│ *│ 7│\n",
    "          └──┴──┴──┘\n",
    "\n",
    "Edges possible positions:\n",
    "\n",
    "          ┌──┬──┬──┐\n",
    "          │ *│ 0│ *│\n",
    "          ├──┼──┼──┤\n",
    "          │ 1│ *│ 2│\n",
    "          ├──┼──┼──┤\n",
    "          │ *│ 3│ *│\n",
    " ┌──┬──┬──┼──┼──┼──┼──┬──┬──┬──┬──┬──┐\n",
    " │ *│16│ *│ *│ 8│ *│ *│ 4│ *│ *│20│ *│\n",
    " ├──┼──┼──┼──┼──┼──┼──┼──┼──┼──┼──┼──┤\n",
    " │17│ *│18│ 9│ *│10│ 5│ *│ 6│21│ *│22│\n",
    " ├──┼──┼──┼──┼──┼──┼──┼──┼──┼──┼──┼──┤\n",
    " │ *│19│ *│ *│11│ *│ *│ 7│ *│ *│23│ *│\n",
    " └──┴──┴──┼──┼──┼──┼──┴──┴──┴──┴──┴──┘\n",
    "          │ *│12│ *│\n",
    "          ├──┼──┼──┤\n",
    "          │13│ *│14│\n",
    "          ├──┼──┼──┤\n",
    "          │ *│15│ *│\n",
    "          └──┴──┴──┘\n",
    "          \n",
    "Edges notations in the solved cube:\n",
    "          ┌──┬──┬──┐\n",
    "          │ *│ 0│ *│\n",
    "          ├──┼──┼──┤\n",
    "          │ 1│ *│ 2│\n",
    "          ├──┼──┼──┤\n",
    "          │ *│ 3│ *│\n",
    " ┌──┬──┬──┼──┼──┼──┼──┬──┬──┬──┬──┬──┐\n",
    " │ *│ *│ *│ *│ *│ *│ *│ *│ *│ *│ *│ *│\n",
    " ├──┼──┼──┼──┼──┼──┼──┼──┼──┼──┼──┼──┤\n",
    " │ *│ *│ *│ 4│ *│ 5│ *│ *│ *│ 6│ *│ 7│\n",
    " ├──┼──┼──┼──┼──┼──┼──┼──┼──┼──┼──┼──┤\n",
    " │ *│ *│ *│ *│ *│ *│ *│ *│ *│ *│ *│ *│\n",
    " └──┴──┴──┼──┼──┼──┼──┴──┴──┴──┴──┴──┘\n",
    "          │ *│ 8│ *│\n",
    "          ├──┼──┼──┤\n",
    "          │ 9│ *│10│\n",
    "          ├──┼──┼──┤\n",
    "          │ *│11│ *│\n",
    "          └──┴──┴──┘\n",
    "\n",
    "The cube is represented by two lists: corners and edges. For example, corner[0] will be the position of the corner with index 0. Same for the edges\n",
    "\n",
    "'''\n",
    "print()"
   ]
  },
  {
   "cell_type": "markdown",
   "id": "ebe9cd3491e83eb4",
   "metadata": {},
   "source": [
    "### Import the environment"
   ]
  },
  {
   "cell_type": "code",
   "execution_count": 10,
   "id": "7b8742ef34539d26",
   "metadata": {
    "ExecuteTime": {
     "end_time": "2024-11-30T17:01:52.128095Z",
     "start_time": "2024-11-30T17:01:52.122590Z"
    }
   },
   "outputs": [
    {
     "ename": "ModuleNotFoundError",
     "evalue": "No module named 'CUBE'",
     "output_type": "error",
     "traceback": [
      "\u001b[0;31m---------------------------------------------------------------------------\u001b[0m",
      "\u001b[0;31mModuleNotFoundError\u001b[0m                       Traceback (most recent call last)",
      "Cell \u001b[0;32mIn[10], line 1\u001b[0m\n\u001b[0;32m----> 1\u001b[0m \u001b[38;5;28;01mfrom\u001b[39;00m \u001b[38;5;21;01mCUBE\u001b[39;00m\u001b[38;5;21;01m.\u001b[39;00m\u001b[38;5;21;01msrc\u001b[39;00m\u001b[38;5;21;01m.\u001b[39;00m\u001b[38;5;21;01menv\u001b[39;00m \u001b[38;5;28;01mimport\u001b[39;00m \u001b[38;5;241m*\u001b[39m\n",
      "\u001b[0;31mModuleNotFoundError\u001b[0m: No module named 'CUBE'"
     ]
    }
   ],
   "source": [
    "from CUBE.src.env import *"
   ]
  },
  {
   "cell_type": "markdown",
   "id": "50fa8bf10fb59943",
   "metadata": {},
   "source": [
    "### Let's see how the cube looks like"
   ]
  },
  {
   "cell_type": "code",
   "execution_count": 9,
   "id": "7b7e37c4528ccc37",
   "metadata": {
    "ExecuteTime": {
     "end_time": "2024-11-30T17:06:24.285829Z",
     "start_time": "2024-11-30T17:06:24.282531Z"
    }
   },
   "outputs": [
    {
     "ename": "NameError",
     "evalue": "name 'Cube' is not defined",
     "output_type": "error",
     "traceback": [
      "\u001b[0;31m---------------------------------------------------------------------------\u001b[0m",
      "\u001b[0;31mNameError\u001b[0m                                 Traceback (most recent call last)",
      "Cell \u001b[0;32mIn[9], line 1\u001b[0m\n\u001b[0;32m----> 1\u001b[0m cube \u001b[38;5;241m=\u001b[39m \u001b[43mCube\u001b[49m()\n\u001b[1;32m      2\u001b[0m corners, edges \u001b[38;5;241m=\u001b[39m cube\u001b[38;5;241m.\u001b[39mget_state()\n\u001b[1;32m      3\u001b[0m \u001b[38;5;28mprint\u001b[39m(\u001b[38;5;124mF\u001b[39m\u001b[38;5;124m\"\u001b[39m\u001b[38;5;124mCorners: \u001b[39m\u001b[38;5;132;01m{\u001b[39;00mcorners\u001b[38;5;132;01m}\u001b[39;00m\u001b[38;5;130;01m\\n\u001b[39;00m\u001b[38;5;124mEdges: \u001b[39m\u001b[38;5;132;01m{\u001b[39;00medges\u001b[38;5;132;01m}\u001b[39;00m\u001b[38;5;124m\"\u001b[39m)\n",
      "\u001b[0;31mNameError\u001b[0m: name 'Cube' is not defined"
     ]
    }
   ],
   "source": [
    "cube = Cube()\n",
    "corners, edges = cube.get_state()\n",
    "print(F\"Corners: {corners}\\nEdges: {edges}\")\n",
    "\n",
    "print(cube)"
   ]
  },
  {
   "cell_type": "markdown",
   "id": "b0c7aad60ddea4b6",
   "metadata": {},
   "source": [
    "## Some tests\n",
    "\n",
    "#### If the edge is rotated 4 times, the cube state will not be changed"
   ]
  },
  {
   "cell_type": "code",
   "execution_count": 264,
   "id": "a54dfe4ef28ad472",
   "metadata": {
    "ExecuteTime": {
     "end_time": "2024-11-30T17:01:54.836267Z",
     "start_time": "2024-11-30T17:01:54.830496Z"
    }
   },
   "outputs": [],
   "source": [
    "cube = Cube()\n",
    "for move in move2idx:\n",
    "    for i in range(4):\n",
    "        cube.move(move2idx[move])\n",
    "        \n",
    "    assert cube.is_solved(), f\"Failed on move {move}\" "
   ]
  },
  {
   "cell_type": "markdown",
   "id": "c0c41b22c39ee8d6",
   "metadata": {},
   "source": [
    "#### Let's see the \"trigger' trick. If R U Rc Uc is done 6 times, the cube state will not be changed"
   ]
  },
  {
   "cell_type": "code",
   "execution_count": 270,
   "id": "d58f2b2e8e0c3991",
   "metadata": {
    "ExecuteTime": {
     "end_time": "2024-11-30T17:07:05.103196Z",
     "start_time": "2024-11-30T17:07:05.097984Z"
    }
   },
   "outputs": [
    {
     "name": "stdout",
     "output_type": "stream",
     "text": [
      "tensor(True)\n"
     ]
    }
   ],
   "source": [
    "cube = Cube()\n",
    "for i in range(6):\n",
    "    for action in [\"R\", \"U\", \"Rc\", \"Uc\"]:\n",
    "        cube.move(move2idx[action])\n",
    "print(cube.is_solved())\n"
   ]
  }
 ],
 "metadata": {
  "kernelspec": {
   "display_name": "cube",
   "language": "python",
   "name": "python3"
  },
  "language_info": {
   "codemirror_mode": {
    "name": "ipython",
    "version": 3
   },
   "file_extension": ".py",
   "mimetype": "text/x-python",
   "name": "python",
   "nbconvert_exporter": "python",
   "pygments_lexer": "ipython3",
   "version": "3.11.9"
  }
 },
 "nbformat": 4,
 "nbformat_minor": 5
}
